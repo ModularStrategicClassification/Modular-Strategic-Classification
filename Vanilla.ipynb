{
 "cells": [
  {
   "cell_type": "markdown",
   "metadata": {},
   "source": [
    "# Vanilla"
   ]
  },
  {
   "cell_type": "markdown",
   "metadata": {},
   "source": [
    "## Imports and Definitions"
   ]
  },
  {
   "cell_type": "code",
   "execution_count": null,
   "metadata": {},
   "outputs": [],
   "source": [
    "import os\n",
    "import torch\n",
    "import numpy as np\n",
    "import cvxpy as cp\n",
    "import pandas as pd\n",
    "\n",
    "from SCMP import SCMP\n",
    "import DataGeneration as data\n",
    "import Presentation\n",
    "\n",
    "torch.set_default_dtype(torch.float64)\n",
    "torch.manual_seed(0)\n",
    "\n",
    "PATH = \"./Results/vanilla\"\n",
    "if not os.path.exists(PATH):\n",
    "    os.makedirs(PATH)"
   ]
  },
  {
   "cell_type": "markdown",
   "metadata": {},
   "source": [
    "## Data Loading"
   ]
  },
  {
   "cell_type": "code",
   "execution_count": null,
   "metadata": {},
   "outputs": [],
   "source": [
    "training_datas = []\n",
    "\n",
    "# credit dataset\n",
    "X, Y = data.load_credit_default_data()\n",
    "X, Y = X[:3000], Y[:3000]\n",
    "X, Y, Xval, Yval, Xtest, Ytest = data.split_validation_test(X, Y)\n",
    "training_datas.append({\"X\": X,\n",
    "                        \"Y\": Y,\n",
    "                        \"Xval\": Xval,\n",
    "                        \"Yval\": Yval,\n",
    "                        \"Xtest\": Xtest,\n",
    "                        \"Ytest\": Ytest,\n",
    "                        \"epochs\": 16,\n",
    "                        \"batch_size\": 64, \n",
    "                        \"name\": \"credit\"})\n",
    "\n",
    "# distress dataset\n",
    "X, Y = data.load_financial_distress_data()\n",
    "X, Y, Xval, Yval, Xtest, Ytest = data.split_validation_test(X, Y)\n",
    "training_datas.append({\"X\": X,\n",
    "                        \"Y\": Y,\n",
    "                        \"Xval\": Xval,\n",
    "                        \"Yval\": Yval,\n",
    "                        \"Xtest\": Xtest,\n",
    "                        \"Ytest\": Ytest,\n",
    "                        \"epochs\": 16,\n",
    "                        \"batch_size\": 24,\n",
    "                        \"name\": \"distress\"})\n",
    "\n",
    "# fraud dataset\n",
    "X, Y = data.load_card_fraud_data()\n",
    "X, Y, Xval, Yval, Xtest, Ytest = data.split_validation_test(X, Y)\n",
    "training_datas.append({\"X\": X,\n",
    "                        \"Y\": Y,\n",
    "                        \"Xval\": Xval,\n",
    "                        \"Yval\": Yval,\n",
    "                        \"Xtest\": Xtest,\n",
    "                        \"Ytest\": Ytest,\n",
    "                        \"epochs\": 16,\n",
    "                        \"batch_size\": 24, \n",
    "                        \"name\": \"fraud\"})\n",
    "\n",
    "# spam dataset\n",
    "X, Y = data.load_spam_data()\n",
    "X, Y, Xval, Yval, Xtest, Ytest = data.split_validation_test(X, Y)\n",
    "training_datas.append({\"X\": X,\n",
    "                        \"Y\": Y,\n",
    "                        \"Xval\": Xval,\n",
    "                        \"Yval\": Yval,\n",
    "                        \"Xtest\": Xtest,\n",
    "                        \"Ytest\": Ytest,\n",
    "                        \"epochs\": 16,\n",
    "                        \"batch_size\": 128, \n",
    "                        \"name\": \"spam\"})"
   ]
  },
  {
   "cell_type": "markdown",
   "metadata": {},
   "source": [
    "## Training"
   ]
  },
  {
   "cell_type": "code",
   "execution_count": null,
   "metadata": {},
   "outputs": [],
   "source": [
    "scales = [1/2, 1, 2]"
   ]
  },
  {
   "cell_type": "code",
   "execution_count": null,
   "metadata": {},
   "outputs": [],
   "source": [
    "for training_data in training_datas:\n",
    "    # Load dataset\n",
    "    X = training_data[\"X\"]\n",
    "    Y = training_data[\"Y\"]\n",
    "    Xval = training_data[\"Xval\"]\n",
    "    Yval = training_data[\"Yval\"]\n",
    "    Xtest = training_data[\"Xtest\"]\n",
    "    Ytest = training_data[\"Ytest\"]\n",
    "    \n",
    "    # Training parameters\n",
    "    x_dim = len(X[0])\n",
    "    epochs = training_data[\"epochs\"]\n",
    "    batch_size = training_data[\"batch_size\"]\n",
    "        \n",
    "    # Training data name and results\n",
    "    name = training_data[\"name\"]\n",
    "    results = {\n",
    "        \"scales\": [],\n",
    "        \"benchmark\": [],\n",
    "        \"SERM\": [],\n",
    "        \"blind\": []\n",
    "    }\n",
    "    \n",
    "    for scale in scales:\n",
    "        # Non-strategic classification\n",
    "        print(f\"---------- Training non-strategically on {name} with scale={scale} ----------\")\n",
    "        model_name = f\"{name}_{scale}_non_strategic\"\n",
    "        non_strategic_model = SCMP(x_dim, batch_size, cost_fn=\"quad\", cost_const_kwargs={\"scale\": scale}, strategic=False)\n",
    "        non_strategic_model.fit(X, Y, Xval, Yval, opt_class=torch.optim.Adam, opt_kwargs={\"lr\": 1e-1},\n",
    "                                epochs=epochs, verbose=\"epochs\", path=PATH, model_name=model_name)\n",
    "        \n",
    "        non_strategic_model = SCMP(x_dim, batch_size, cost_fn=\"quad\", cost_const_kwargs={\"scale\": scale}, strategic=False)\n",
    "        non_strategic_model.load_model(PATH, model_name)\n",
    "        non_strategic_model.normalize_weights()\n",
    "        \n",
    "        # Strategic classification\n",
    "        print(f\"---------- Training strategically on {name} with scale={scale} ----------\")\n",
    "        model_name = f\"{name}_{scale}_strategic\"\n",
    "        strategic_model = SCMP(x_dim, batch_size, cost_fn=\"quad\", cost_const_kwargs={\"scale\": scale}, strategic=True)\n",
    "        strategic_model.fit(X, Y, Xval, Yval, opt_class=torch.optim.Adam, opt_kwargs={\"lr\": 5e-1},\n",
    "                                epochs=epochs, verbose=\"batches\", path=PATH, model_name=model_name)\n",
    "            \n",
    "        strategic_model = SCMP(x_dim, batch_size, cost_fn=\"quad\", cost_const_kwargs={\"scale\": scale}, strategic=True)\n",
    "        strategic_model.load_model(PATH, model_name)\n",
    "                \n",
    "        # Calculate results\n",
    "        print(\"---------- Calculating results ----------\")\n",
    "        results[\"scales\"].append(scale)\n",
    "        # Non-strategic model & non-strategic data - Benchmark\n",
    "        results[\"benchmark\"].append(non_strategic_model.evaluate(Xtest, Ytest, strategic_data=False))\n",
    "        # Strategic model & strategic data - SERM\n",
    "        results[\"SERM\"].append(strategic_model.evaluate(Xtest, Ytest, strategic_data=True))\n",
    "        # Non-strategic model & strategic data - Blind\n",
    "        results[\"blind\"].append(non_strategic_model.evaluate(Xtest, Ytest, strategic_data=True))\n",
    "        # Saving results\n",
    "        pd.DataFrame(results).to_csv(f\"{PATH}/{name}_results.csv\")"
   ]
  },
  {
   "cell_type": "markdown",
   "metadata": {},
   "source": [
    "## Show Results"
   ]
  },
  {
   "cell_type": "code",
   "execution_count": null,
   "metadata": {},
   "outputs": [],
   "source": [
    "Presentation.show_vanilla_results()"
   ]
  }
 ],
 "metadata": {
  "kernelspec": {
   "display_name": "Python 3",
   "language": "python",
   "name": "python3"
  },
  "language_info": {
   "codemirror_mode": {
    "name": "ipython",
    "version": 3
   },
   "file_extension": ".py",
   "mimetype": "text/x-python",
   "name": "python",
   "nbconvert_exporter": "python",
   "pygments_lexer": "ipython3",
   "version": "3.7.9"
  }
 },
 "nbformat": 4,
 "nbformat_minor": 4
}
