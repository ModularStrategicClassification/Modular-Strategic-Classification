{
 "cells": [
  {
   "cell_type": "markdown",
   "metadata": {},
   "source": [
    "# Flexibility Around Cost"
   ]
  },
  {
   "cell_type": "markdown",
   "metadata": {},
   "source": [
    "## Imports and Definitions"
   ]
  },
  {
   "cell_type": "code",
   "execution_count": null,
   "metadata": {},
   "outputs": [],
   "source": [
    "import os\n",
    "import torch\n",
    "import numpy as np\n",
    "import cvxpy as cp\n",
    "import pandas as pd\n",
    "import IPython.display as display\n",
    "%matplotlib inline\n",
    "\n",
    "from SCMP import SCMP, FlexibleSCMP\n",
    "import DataGeneration as data\n",
    "import Presentation\n",
    "import Visualization\n",
    "\n",
    "torch.set_default_dtype(torch.float64)\n",
    "torch.manual_seed(0)\n",
    "\n",
    "PATH = \"./Results/flexibility\"\n",
    "if not os.path.exists(PATH):\n",
    "    os.makedirs(PATH)"
   ]
  },
  {
   "cell_type": "markdown",
   "metadata": {},
   "source": [
    "## Data Generation"
   ]
  },
  {
   "cell_type": "code",
   "execution_count": null,
   "metadata": {},
   "outputs": [],
   "source": [
    "x_dim = 2\n",
    "n_samples = 640\n",
    "X, Y = data.gen_custom_normal_data(x_dim, n_samples, torch.Tensor([0.5, 0]), torch.Tensor([0.1, 1]), torch.Tensor([-0.5, 0]), torch.Tensor([0.1, 1]))\n",
    "positive = X[Y == 1]\n",
    "negative = X[Y == -1]\n",
    "pd.DataFrame(positive.numpy()).to_csv(f\"{PATH}/positive.csv\")\n",
    "pd.DataFrame(negative.numpy()).to_csv(f\"{PATH}/negative.csv\")\n",
    "X, Y, Xval, Yval, Xtest, Ytest = data.split_validation_test(X, Y)"
   ]
  },
  {
   "cell_type": "markdown",
   "metadata": {},
   "source": [
    "## Training"
   ]
  },
  {
   "cell_type": "code",
   "execution_count": null,
   "metadata": {},
   "outputs": [],
   "source": [
    "epochs = 16\n",
    "batch_size = 16\n",
    "reg = 0.001\n",
    "\n",
    "v_0 = torch.tensor([0.5, 0.5])\n",
    "v_best = torch.tensor([1, 0])"
   ]
  },
  {
   "cell_type": "code",
   "execution_count": null,
   "metadata": {},
   "outputs": [],
   "source": [
    "# Non-strategic classification - Benchmark\n",
    "print(\"---------- Training the benchmark model (non-strategically with v=v_0) ----------\")\n",
    "model_name = \"benchmark\"\n",
    "non_strategic_model = SCMP(x_dim, batch_size, cost_fn=\"linear\", cost_const_kwargs={\"v\": v_0}, strategic=False)\n",
    "non_strategic_model.fit(X, Y, Xval, Yval, opt_class=torch.optim.Adam, opt_kwargs={\"lr\": 1e-1}, epochs=epochs, verbose=\"epochs\", save_progression=True, path=PATH, model_name=model_name)\n",
    "\n",
    "non_strategic_model = SCMP(x_dim, batch_size, cost_fn=\"linear\", cost_const_kwargs={\"v\": v_0}, strategic=False)\n",
    "non_strategic_model.load_model(PATH, model_name)\n",
    "\n",
    "w = non_strategic_model.w.data\n",
    "b = non_strategic_model.b.data\n",
    "v = v_0\n",
    "acc = non_strategic_model.evaluate(Xtest, Ytest, strategic_data=False)\n",
    "results = [w[0], w[1], b.item(), v[0], v[1], acc]\n",
    "pd.DataFrame(results, index=[\"w0\", \"w1\", \"b\", \"v0\", \"v1\", \"acc\"]).to_csv(f\"{PATH}/benchmark_results.csv\")\n",
    "\n",
    "# Strategic classification - Oracle\n",
    "print(\"---------- Training the oracle model (strategically with v=v_best) ----------\")\n",
    "model_name = \"oracle\"\n",
    "strategic_model_oracle = SCMP(x_dim, batch_size, cost_fn=\"linear\", cost_const_kwargs={\"v\": v_best}, strategic=True)\n",
    "strategic_model_oracle.fit(X, Y, Xval, Yval, opt_class=torch.optim.Adam, opt_kwargs={\"lr\": 1e-1}, epochs=epochs, verbose=\"epochs\", save_progression=True, path=PATH, model_name=model_name)\n",
    "\n",
    "strategic_model_oracle = SCMP(x_dim, batch_size, cost_fn=\"linear\", cost_const_kwargs={\"v\": v_best}, strategic=True)\n",
    "strategic_model_oracle.load_model(PATH, model_name)\n",
    "\n",
    "w = strategic_model_oracle.w.data\n",
    "b = strategic_model_oracle.b.data\n",
    "v = v_best\n",
    "acc = strategic_model_oracle.evaluate(Xtest, Ytest, strategic_data=True)\n",
    "results = [w[0], w[1], b.item(), v[0], v[1], acc]\n",
    "pd.DataFrame(results, index=[\"w0\", \"w1\", \"b\", \"v0\", \"v1\", \"acc\"]).to_csv(f\"{PATH}/oracle_results.csv\")\n",
    "\n",
    "# Strategic classification - Naive\n",
    "print(\"---------- Training the naive model (strategically with v=v_0) ----------\")\n",
    "model_name = \"naive\"\n",
    "strategic_model_naive = SCMP(x_dim, batch_size, cost_fn=\"linear\", cost_const_kwargs={\"v\": v_0}, strategic=True)\n",
    "strategic_model_naive.fit(X, Y, Xval, Yval, opt_class=torch.optim.Adam, opt_kwargs={\"lr\": 1e-1}, epochs=epochs, verbose=\"epochs\", save_progression=True, path=PATH, model_name=model_name)\n",
    "\n",
    "strategic_model_naive = SCMP(x_dim, batch_size, cost_fn=\"linear\", cost_const_kwargs={\"v\": v_0}, strategic=True)\n",
    "strategic_model_naive.load_model(PATH, model_name)\n",
    "\n",
    "w = strategic_model_naive.w.data\n",
    "b = strategic_model_naive.b.data\n",
    "v = v_0\n",
    "acc = strategic_model_naive.evaluate(Xtest, Ytest, strategic_data=True)\n",
    "results = [w[0], w[1], b.item(), v[0], v[1], acc]\n",
    "pd.DataFrame(results, index=[\"w0\", \"w1\", \"b\", \"v0\", \"v1\", \"acc\"]).to_csv(f\"{PATH}/naive_results.csv\")\n",
    "\n",
    "# Strategic classification - SERM\n",
    "print(\"---------- Training the SERM model (strategically and flexible with v_init=v_0) ----------\")\n",
    "model_name = \"SERM\"\n",
    "strategic_model_SERM = FlexibleSCMP(x_dim, batch_size, v_init=v_0, reg_factor=reg, strategic=True)\n",
    "strategic_model_SERM.fit(X, Y, Xval, Yval, opt_class=torch.optim.Adam, opt_kwargs={\"lr\": 1e-1}, epochs=epochs, verbose=\"epochs\", save_progression=True, path=PATH, model_name=model_name)\n",
    "\n",
    "strategic_model_SERM = FlexibleSCMP(x_dim, batch_size, v_init=v_0, reg_factor=reg, strategic=True)\n",
    "strategic_model_SERM.load_model(PATH, model_name)\n",
    "\n",
    "w = strategic_model_SERM.w.data\n",
    "b = strategic_model_SERM.b.data\n",
    "v = strategic_model_SERM.v.data\n",
    "v /= torch.norm(v)\n",
    "acc = strategic_model_SERM.evaluate(Xtest, Ytest, strategic_data=True)\n",
    "results = [w[0], w[1], b.item(), v[0], v[1], acc]\n",
    "pd.DataFrame(results, index=[\"w0\", \"w1\", \"b\", \"v0\", \"v1\", \"acc\"]).to_csv(f\"{PATH}/SERM_results.csv\")"
   ]
  },
  {
   "cell_type": "markdown",
   "metadata": {},
   "source": [
    "## Show Results"
   ]
  },
  {
   "cell_type": "code",
   "execution_count": null,
   "metadata": {},
   "outputs": [],
   "source": [
    "Presentation.show_flexibility_results()"
   ]
  }
 ],
 "metadata": {
  "kernelspec": {
   "display_name": "Python 3",
   "language": "python",
   "name": "python3"
  },
  "language_info": {
   "codemirror_mode": {
    "name": "ipython",
    "version": 3
   },
   "file_extension": ".py",
   "mimetype": "text/x-python",
   "name": "python",
   "nbconvert_exporter": "python",
   "pygments_lexer": "ipython3",
   "version": "3.7.9"
  }
 },
 "nbformat": 4,
 "nbformat_minor": 4
}
