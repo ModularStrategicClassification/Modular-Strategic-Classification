{
 "cells": [
  {
   "cell_type": "markdown",
   "metadata": {},
   "source": [
    "# Runtime for Various Batchsizes"
   ]
  },
  {
   "cell_type": "markdown",
   "metadata": {},
   "source": [
    "## Imports and Definitions"
   ]
  },
  {
   "cell_type": "code",
   "execution_count": null,
   "metadata": {},
   "outputs": [],
   "source": [
    "import os\n",
    "import time\n",
    "import torch\n",
    "import cvxpy as cp\n",
    "import pandas as pd\n",
    "\n",
    "from SCMP import SCMP\n",
    "import DataGeneration as data\n",
    "from CommonFunctions import *\n",
    "import Presentation\n",
    "\n",
    "torch.set_default_dtype(torch.float64)\n",
    "torch.manual_seed(0)\n",
    "\n",
    "PATH = \"./Results/runtime_varying_batchsizes\"\n",
    "if not os.path.exists(PATH):\n",
    "    os.makedirs(PATH)"
   ]
  },
  {
   "cell_type": "markdown",
   "metadata": {},
   "source": [
    "## Data Generation"
   ]
  },
  {
   "cell_type": "code",
   "execution_count": null,
   "metadata": {},
   "outputs": [],
   "source": [
    "X_dim = 5\n",
    "N_samples = 1024\n",
    "validation_percent = 0.25\n",
    "\n",
    "X, Y = data.gen_sklearn_data(X_dim, N_samples)\n",
    "X, Y, Xval, Yval = data.split_data(X, Y, validation_percent)"
   ]
  },
  {
   "cell_type": "markdown",
   "metadata": {},
   "source": [
    "## Training"
   ]
  },
  {
   "cell_type": "code",
   "execution_count": null,
   "metadata": {},
   "outputs": [],
   "source": [
    "batch_sizes = [1, 2, 4, 8, 16, 32, 64, 128, 256]\n",
    "epochs = 5"
   ]
  },
  {
   "cell_type": "code",
   "execution_count": null,
   "metadata": {},
   "outputs": [],
   "source": [
    "results = {\n",
    "    \"batch_sizes\": [],\n",
    "    \"fit_times\": [],\n",
    "    \"ccp_times\": []\n",
    "}\n",
    "\n",
    "for batch_size in batch_sizes:\n",
    "    print(f\"Batch size: {batch_size}.\")\n",
    "    scmp = SCMP(X_dim, batch_size, cost_fn=quad_cost_cvxpy_batched, cost_fn_not_batched=quad_cost_cvxpy_not_batched, strategic=True)\n",
    "    scmp.fit(X, Y, Xval, Yval, opt_class=torch.optim.Adam, opt_kwargs={\"lr\": 1e-1},\n",
    "             epochs=epochs, verbose=\"batches\", path=PATH, model_name=f\"batch_size_{batch_size}\")\n",
    "    \n",
    "    results[\"batch_sizes\"].append(batch_size)\n",
    "    results[\"fit_times\"].append(scmp.fit_time)\n",
    "    results[\"ccp_times\"].append(scmp.ccp_time)\n",
    "    pd.DataFrame(results).to_csv(f\"{PATH}/timing_results_without_wrap.csv\")"
   ]
  },
  {
   "cell_type": "code",
   "execution_count": null,
   "metadata": {},
   "outputs": [],
   "source": [
    "batch_sizes = [1, 2, 4, 8, 16, 32, 64, 128, 256]\n",
    "\n",
    "results = {\n",
    "    \"batch_sizes\": [],\n",
    "    \"fit_times\": [],\n",
    "    \"ccp_times\": []\n",
    "}\n",
    "\n",
    "for batch_size in batch_sizes:\n",
    "    print(f\"Batch size: {batch_size}.\")\n",
    "    # Note that we don't give the model the unbatched quad_cost, SCMP wraps the batched version to create it.\n",
    "    scmp = SCMP(X_dim, batch_size, cost_fn=quad_cost_cvxpy_batched, strategic=True)\n",
    "    scmp.fit(X, Y, Xval, Yval, opt_class=torch.optim.Adam, opt_kwargs={\"lr\": 1e-1},\n",
    "             epochs=epochs, verbose=\"batches\", path=PATH, model_name=f\"batch_size_{batch_size}_with_wrap\")\n",
    "    \n",
    "    results[\"batch_sizes\"].append(batch_size)\n",
    "    results[\"fit_times\"].append(scmp.fit_time)\n",
    "    results[\"ccp_times\"].append(scmp.ccp_time)\n",
    "    pd.DataFrame(results).to_csv(f\"{PATH}/timing_results_with_wrap.csv\")"
   ]
  },
  {
   "cell_type": "markdown",
   "metadata": {},
   "source": [
    "## Show Results"
   ]
  },
  {
   "cell_type": "code",
   "execution_count": null,
   "metadata": {},
   "outputs": [],
   "source": [
    "Presentation.show_runtime_results()"
   ]
  }
 ],
 "metadata": {
  "kernelspec": {
   "display_name": "Python 3",
   "language": "python",
   "name": "python3"
  },
  "language_info": {
   "codemirror_mode": {
    "name": "ipython",
    "version": 3
   },
   "file_extension": ".py",
   "mimetype": "text/x-python",
   "name": "python",
   "nbconvert_exporter": "python",
   "pygments_lexer": "ipython3",
   "version": "3.7.9"
  }
 },
 "nbformat": 4,
 "nbformat_minor": 4
}
