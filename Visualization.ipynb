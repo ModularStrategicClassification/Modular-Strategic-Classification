{
 "cells": [
  {
   "cell_type": "markdown",
   "metadata": {},
   "source": [
    "# Visualization"
   ]
  },
  {
   "cell_type": "markdown",
   "metadata": {},
   "source": [
    "## Imports and Definitions"
   ]
  },
  {
   "cell_type": "code",
   "execution_count": null,
   "metadata": {},
   "outputs": [],
   "source": [
    "import os\n",
    "import torch\n",
    "import cvxpy as cp\n",
    "import numpy as np\n",
    "import pandas as pd\n",
    "import matplotlib.pyplot as plt\n",
    "from matplotlib.animation import FuncAnimation\n",
    "import IPython.display as display\n",
    "%matplotlib inline\n",
    "\n",
    "from SCMP import SCMP\n",
    "import DataGeneration as data\n",
    "import Visualization\n",
    "\n",
    "torch.set_default_dtype(torch.float64)\n",
    "torch.manual_seed(0)\n",
    "\n",
    "PATH = \"./Results/visualization\"\n",
    "if not os.path.exists(PATH):\n",
    "    os.makedirs(PATH)"
   ]
  },
  {
   "cell_type": "markdown",
   "metadata": {},
   "source": [
    "## Datasets"
   ]
  },
  {
   "cell_type": "code",
   "execution_count": null,
   "metadata": {},
   "outputs": [],
   "source": [
    "x_dim = 2\n",
    "n_samples = 500\n",
    "X, Y = data.gen_custom_normal_data(x_dim, n_samples, torch.Tensor([0.5, 0]), torch.Tensor([0.1, 1]), torch.Tensor([-0.5, 0]), torch.Tensor([0.1, 1]))\n",
    "X, Y, Xval, Yval, Xtest, Ytest = data.split_validation_test(X, Y)\n",
    "\n",
    "epochs = 16\n",
    "batch_size = 24"
   ]
  },
  {
   "cell_type": "markdown",
   "metadata": {},
   "source": [
    "## Tests"
   ]
  },
  {
   "cell_type": "code",
   "execution_count": null,
   "metadata": {},
   "outputs": [],
   "source": [
    "# Training with train_slope=1.\n",
    "strategic_model = SCMP(x_dim, batch_size, cost_fn=\"quad\", cost_const_kwargs={\"scale\": 1}, train_slope=1, strategic=True)\n",
    "strategic_model.fit(X, Y, Xval, Yval, opt_class=torch.optim.Adam, opt_kwargs={\"lr\": 5e-1},\n",
    "                        epochs=epochs, verbose=\"batches\", save_progression=True, path=PATH, model_name=\"train_slope1\")"
   ]
  },
  {
   "cell_type": "code",
   "execution_count": null,
   "metadata": {},
   "outputs": [],
   "source": [
    "# Training with train_slope=2.\n",
    "strategic_model = SCMP(x_dim, batch_size, cost_fn=\"quad\", cost_const_kwargs={\"scale\": 1}, train_slope=2, strategic=True)\n",
    "strategic_model.fit(X, Y, Xval, Yval, opt_class=torch.optim.Adam, opt_kwargs={\"lr\": 5e-1},\n",
    "                        epochs=epochs, verbose=\"batches\", save_progression=True, path=PATH, model_name=\"train_slope2\")"
   ]
  },
  {
   "cell_type": "code",
   "execution_count": null,
   "metadata": {},
   "outputs": [],
   "source": [
    "animation = Visualization.visualize(PATH, \"train_slope1\")\n",
    "display.HTML(animation.to_jshtml())"
   ]
  },
  {
   "cell_type": "code",
   "execution_count": null,
   "metadata": {},
   "outputs": [],
   "source": [
    "animation = Visualization.visualize(PATH, \"train_slope2\")\n",
    "display.HTML(animation.to_jshtml())"
   ]
  }
 ],
 "metadata": {
  "kernelspec": {
   "display_name": "Python 3",
   "language": "python",
   "name": "python3"
  },
  "language_info": {
   "codemirror_mode": {
    "name": "ipython",
    "version": 3
   },
   "file_extension": ".py",
   "mimetype": "text/x-python",
   "name": "python",
   "nbconvert_exporter": "python",
   "pygments_lexer": "ipython3",
   "version": "3.7.9"
  }
 },
 "nbformat": 4,
 "nbformat_minor": 4
}
